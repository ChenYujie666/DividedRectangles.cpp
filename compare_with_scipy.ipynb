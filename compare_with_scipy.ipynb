{
 "cells": [
  {
   "cell_type": "code",
   "execution_count": 2,
   "id": "aa04a697",
   "metadata": {},
   "outputs": [],
   "source": [
    "from scipy.optimize import direct, Bounds\n",
    "\n",
    "import numpy as np\n",
    "import matplotlib.pyplot as plt"
   ]
  },
  {
   "cell_type": "code",
   "execution_count": null,
   "id": "a0093395-9dd5-41eb-a90d-3f2a0729a3a5",
   "metadata": {},
   "outputs": [
    {
     "name": "stdout",
     "output_type": "stream",
     "text": [
      "stybtang value:\n",
      "-0.920934370607772\n",
      "-7.234783953807263\n",
      "-6.8542397176841945\n",
      "-6.715724295389082\n",
      "-15.555124743733693\n",
      "-15.576299254616199\n",
      "-15.342128070750226\n",
      "-17.59171807071811\n",
      "-34.07771735017036\n",
      "\n",
      "maxiter: 1\n",
      "scppy.optimize.direct best result:  [17.5 50.5]\n",
      "scppy.optimize.direct best value:  88783.0\n",
      "\n",
      "maxiter: 2\n",
      "scppy.optimize.direct best result:  [17.5 50.5]\n",
      "scppy.optimize.direct best value:  88783.0\n",
      "\n",
      "maxiter: 4\n",
      "scppy.optimize.direct best result:  [ 6.5 17.5]\n",
      "scppy.optimize.direct best value:  178.0\n",
      "\n",
      "maxiter: 8\n",
      "scppy.optimize.direct best result:  [10.1667 10.1667]\n",
      "scppy.optimize.direct best value:  -1104.213\n",
      "\n",
      "maxiter: 16\n",
      "scppy.optimize.direct best result:  [10.5741 10.5741]\n",
      "scppy.optimize.direct best value:  -1107.6161\n",
      "\n",
      "maxiter: 32\n",
      "scppy.optimize.direct best result:  [10.5741 10.5741]\n",
      "scppy.optimize.direct best value:  -1107.6161\n",
      "\n",
      "maxiter: 64\n",
      "scppy.optimize.direct best result:  [10.5741 10.5741]\n",
      "scppy.optimize.direct best value:  -1107.6161\n",
      "\n",
      "maxiter: 128\n",
      "scppy.optimize.direct best result:  [10.5741 10.5741]\n",
      "scppy.optimize.direct best value:  -1107.6161\n",
      "\n",
      "maxiter: 256\n",
      "scppy.optimize.direct best result:  [10.5741 10.5741]\n",
      "scppy.optimize.direct best value:  -1107.6161\n",
      "\n",
      "maxiter: 512\n",
      "scppy.optimize.direct best result:  [10.5741 10.5741]\n",
      "scppy.optimize.direct best value:  -1107.6161\n"
     ]
    }
   ],
   "source": [
    "def stybtang(x):\n",
    "    return np.sum(x*x*x-16*x*x+5*x)\n",
    "\n",
    "print(\"stybtang value:\")\n",
    "print(stybtang(np.array([0.45249848559578098594613493332872, ])))\n",
    "print(stybtang(np.array([0.45249848559578098594613493332872, 0.83067871320447728145097698870813, ])))\n",
    "print(stybtang(np.array([0.45249848559578098594613493332872, 0.83067871320447728145097698870813, 0.18864831747772470293966762255877, ])))\n",
    "print(stybtang(np.array([0.45249848559578098594613493332872, 0.83067871320447728145097698870813, 0.18864831747772470293966762255877, 0.03071649878847293457795331050875, ])))\n",
    "print(stybtang(np.array([0.45249848559578098594613493332872, 0.83067871320447728145097698870813, 0.18864831747772470293966762255877, 0.03071649878847293457795331050875, 0.95029852490827693145547527819872, ])))\n",
    "print(stybtang(np.array([0.45249848559578098594613493332872, 0.83067871320447728145097698870813, 0.18864831747772470293966762255877, 0.03071649878847293457795331050875, 0.95029852490827693145547527819872, 0.32312115382849038169865707459394, ])))\n",
    "print(stybtang(np.array([0.45249848559578098594613493332872, 0.83067871320447728145097698870813, 0.18864831747772470293966762255877, 0.03071649878847293457795331050875, 0.95029852490827693145547527819872, 0.32312115382849038169865707459394, 0.05730494033401978271058396785520, ])))\n",
    "print(stybtang(np.array([0.45249848559578098594613493332872, 0.83067871320447728145097698870813, 0.18864831747772470293966762255877, 0.03071649878847293457795331050875, 0.95029852490827693145547527819872, 0.32312115382849038169865707459394, 0.05730494033401978271058396785520, 0.57698604357491034555494024971267, ])))\n",
    "print(stybtang(np.array([0.45249848559578098594613493332872, 0.83067871320447728145097698870813, 0.18864831747772470293966762255877, 0.03071649878847293457795331050875, 0.95029852490827693145547527819872, 0.32312115382849038169865707459394, 0.05730494033401978271058396785520, 0.57698604357491034555494024971267, -0.85179862554403817931358844361966, ])))\n",
    "\n",
    "maxiter = 1/2\n",
    "for i in range(10):\n",
    "    maxiter = int(2*maxiter)\n",
    "    result = direct(stybtang, bounds=[(1,100)]*2, maxiter=maxiter, vol_tol=1e-5)\n",
    "    print()\n",
    "    print(\"maxiter:\", maxiter)\n",
    "    print(\"scppy.optimize.direct best result: \", result.x.round(4)) \n",
    "    print(\"scppy.optimize.direct best value: \", round(result.fun, 4)) "
   ]
  },
  {
   "cell_type": "code",
   "execution_count": 31,
   "id": "859c06bb-4e3a-41b4-87bb-e604a7e344ca",
   "metadata": {},
   "outputs": [
    {
     "name": "stdout",
     "output_type": "stream",
     "text": [
      "\n",
      "maxiter: 1\n",
      "scppy.optimize.direct best result:  [1.3333 0.    ]\n",
      "scppy.optimize.direct best value:  -13.003\n",
      "\n",
      "maxiter: 2\n",
      "scppy.optimize.direct best result:  [1.3333 0.    ]\n",
      "scppy.optimize.direct best value:  -13.003\n",
      "\n",
      "maxiter: 4\n",
      "scppy.optimize.direct best result:  [ 1.3333 -1.3333]\n",
      "scppy.optimize.direct best value:  -33.5634\n",
      "\n",
      "maxiter: 8\n",
      "scppy.optimize.direct best result:  [ 1.3333 -1.4321]\n",
      "scppy.optimize.direct best value:  -37.517\n",
      "\n",
      "maxiter: 16\n",
      "scppy.optimize.direct best result:  [ 1.3205 -1.4248]\n",
      "scppy.optimize.direct best value:  -37.6808\n",
      "\n",
      "maxiter: 32\n",
      "scppy.optimize.direct best result:  [-1.4815 -0.7901]\n",
      "scppy.optimize.direct best value:  -179.29\n",
      "\n",
      "maxiter: 64\n",
      "scppy.optimize.direct best result:  [-1.4254 -0.8005]\n",
      "scppy.optimize.direct best value:  -186.7307\n",
      "\n",
      "maxiter: 128\n",
      "scppy.optimize.direct best result:  [-1.4254 -0.8005]\n",
      "scppy.optimize.direct best value:  -186.7307\n",
      "\n",
      "maxiter: 256\n",
      "scppy.optimize.direct best result:  [-1.4252 -0.8005]\n",
      "scppy.optimize.direct best value:  -186.7308\n",
      "\n",
      "maxiter: 512\n",
      "scppy.optimize.direct best result:  [-1.4252 -0.8005]\n",
      "scppy.optimize.direct best value:  -186.7308\n"
     ]
    }
   ],
   "source": [
    "def shubert(x):\n",
    "    x1 = x[0]\n",
    "    x2 = x[1]\n",
    "    return (np.sum([i*np.cos((i+1)*x1+i) for i in range(1, 6)]) *\n",
    "            np.sum([i*np.cos((i+1)*x2+i) for i in range(1, 6)]))\n",
    "\n",
    "# maxiter = 1\n",
    "for i in range(10):\n",
    "    maxiter = 2**i\n",
    "    result = direct(shubert, bounds=[(-2,2)]*2, maxiter=maxiter, vol_tol=1e-8)\n",
    "    print()\n",
    "    print(\"maxiter:\", maxiter)\n",
    "    print(\"scppy.optimize.direct best result: \", result.x.round(4)) \n",
    "    print(\"scppy.optimize.direct best value: \", round(result.fun, 4)) "
   ]
  },
  {
   "cell_type": "code",
   "execution_count": 19,
   "id": "9bb354d1",
   "metadata": {},
   "outputs": [
    {
     "data": {
      "text/plain": [
       "[1, 2, 3, 4, 5]"
      ]
     },
     "execution_count": 19,
     "metadata": {},
     "output_type": "execute_result"
    }
   ],
   "source": [
    "list(range(1, 6))"
   ]
  }
 ],
 "metadata": {
  "kernelspec": {
   "display_name": "myEnv",
   "language": "python",
   "name": "python3"
  },
  "language_info": {
   "codemirror_mode": {
    "name": "ipython",
    "version": 3
   },
   "file_extension": ".py",
   "mimetype": "text/x-python",
   "name": "python",
   "nbconvert_exporter": "python",
   "pygments_lexer": "ipython3",
   "version": "3.12.9"
  }
 },
 "nbformat": 4,
 "nbformat_minor": 5
}
