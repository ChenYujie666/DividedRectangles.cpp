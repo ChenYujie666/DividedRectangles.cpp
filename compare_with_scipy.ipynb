{
 "cells": [
  {
   "cell_type": "code",
   "execution_count": 9,
   "id": "aa04a697",
   "metadata": {},
   "outputs": [],
   "source": [
    "from scipy.optimize import direct, Bounds\n",
    "\n",
    "import numpy as np\n",
    "import matplotlib.pyplot as plt"
   ]
  },
  {
   "cell_type": "code",
   "execution_count": null,
   "id": "a0093395-9dd5-41eb-a90d-3f2a0729a3a5",
   "metadata": {},
   "outputs": [
    {
     "name": "stdout",
     "output_type": "stream",
     "text": [
      "stybtang value:\n",
      "-0.460467185303886\n",
      "-3.6173919769036313\n",
      "-3.4271198588420972\n",
      "-3.357862147694541\n",
      "-7.777562371866846\n",
      "-7.7881496273080995\n",
      "-7.671064035375113\n",
      "-8.795859035359054\n",
      "-17.03885867508518\n",
      "\n",
      "maxiter: 1\n",
      "scppy.optimize.direct best result:  [-1.3333  0.    ]\n",
      "scppy.optimize.direct best value:  -18.7407\n",
      "\n",
      "maxiter: 2\n",
      "scppy.optimize.direct best result:  [-1.3333  0.    ]\n",
      "scppy.optimize.direct best value:  -18.7407\n",
      "\n",
      "maxiter: 4\n",
      "scppy.optimize.direct best result:  [-1.7778 -1.3333]\n",
      "scppy.optimize.direct best value:  -51.2785\n",
      "\n",
      "maxiter: 8\n",
      "scppy.optimize.direct best result:  [-1.9753 -1.9259]\n",
      "scppy.optimize.direct best value:  -78.0669\n",
      "\n",
      "maxiter: 16\n",
      "scppy.optimize.direct best result:  [-1.9973 -1.9918]\n",
      "scppy.optimize.direct best value:  -81.5564\n",
      "\n",
      "maxiter: 32\n",
      "scppy.optimize.direct best result:  [-1.9973 -1.9918]\n",
      "scppy.optimize.direct best value:  -81.5564\n",
      "\n",
      "maxiter: 64\n",
      "scppy.optimize.direct best result:  [-1.9973 -1.9918]\n",
      "scppy.optimize.direct best value:  -81.5564\n",
      "\n",
      "maxiter: 128\n",
      "scppy.optimize.direct best result:  [-1.9973 -1.9918]\n",
      "scppy.optimize.direct best value:  -81.5564\n",
      "\n",
      "maxiter: 256\n",
      "scppy.optimize.direct best result:  [-1.9973 -1.9918]\n",
      "scppy.optimize.direct best value:  -81.5564\n",
      "\n",
      "maxiter: 512\n",
      "scppy.optimize.direct best result:  [-1.9973 -1.9918]\n",
      "scppy.optimize.direct best value:  -81.5564\n"
     ]
    }
   ],
   "source": [
    "def stybtang(x):\n",
    "    return 1/2*np.sum(x*x*x*x-16.0*x*x+5.0*x)\n",
    "\n",
    "print(\"stybtang value:\")\n",
    "print(stybtang(np.array([0.45249848559578098594613493332872, ])))\n",
    "print(stybtang(np.array([0.45249848559578098594613493332872, 0.83067871320447728145097698870813, ])))\n",
    "print(stybtang(np.array([0.45249848559578098594613493332872, 0.83067871320447728145097698870813, 0.18864831747772470293966762255877, ])))\n",
    "print(stybtang(np.array([0.45249848559578098594613493332872, 0.83067871320447728145097698870813, 0.18864831747772470293966762255877, 0.03071649878847293457795331050875, ])))\n",
    "print(stybtang(np.array([0.45249848559578098594613493332872, 0.83067871320447728145097698870813, 0.18864831747772470293966762255877, 0.03071649878847293457795331050875, 0.95029852490827693145547527819872, ])))\n",
    "print(stybtang(np.array([0.45249848559578098594613493332872, 0.83067871320447728145097698870813, 0.18864831747772470293966762255877, 0.03071649878847293457795331050875, 0.95029852490827693145547527819872, 0.32312115382849038169865707459394, ])))\n",
    "print(stybtang(np.array([0.45249848559578098594613493332872, 0.83067871320447728145097698870813, 0.18864831747772470293966762255877, 0.03071649878847293457795331050875, 0.95029852490827693145547527819872, 0.32312115382849038169865707459394, 0.05730494033401978271058396785520, ])))\n",
    "print(stybtang(np.array([0.45249848559578098594613493332872, 0.83067871320447728145097698870813, 0.18864831747772470293966762255877, 0.03071649878847293457795331050875, 0.95029852490827693145547527819872, 0.32312115382849038169865707459394, 0.05730494033401978271058396785520, 0.57698604357491034555494024971267, ])))\n",
    "print(stybtang(np.array([0.45249848559578098594613493332872, 0.83067871320447728145097698870813, 0.18864831747772470293966762255877, 0.03071649878847293457795331050875, 0.95029852490827693145547527819872, 0.32312115382849038169865707459394, 0.05730494033401978271058396785520, 0.57698604357491034555494024971267, -0.85179862554403817931358844361966, ])))\n",
    "\n",
    "maxiter = 1/2\n",
    "for i in range(10):\n",
    "    maxiter = int(2*maxiter)\n",
    "    result = direct(stybtang, bounds=[(-2,2)]*2, maxiter=maxiter, vol_tol=1e-5)\n",
    "    print()\n",
    "    print(\"maxiter:\", maxiter)\n",
    "    print(\"scppy.optimize.direct best result: \", result.x.round(4)) \n",
    "    print(\"scppy.optimize.direct best value: \", round(result.fun, 4)) "
   ]
  },
  {
   "cell_type": "code",
   "execution_count": 23,
   "id": "859c06bb-4e3a-41b4-87bb-e604a7e344ca",
   "metadata": {},
   "outputs": [
    {
     "name": "stdout",
     "output_type": "stream",
     "text": [
      "\n",
      "maxiter: 150\n",
      "scppy.optimize.direct best result:  [-0.2058  3.2785]\n",
      "scppy.optimize.direct best value:  -30.7282\n",
      "\n",
      "maxiter: 150\n",
      "scppy.optimize.direct best result:  [-0.1956 -0.8002]\n",
      "scppy.optimize.direct best value:  -123.5767\n",
      "\n",
      "maxiter: 1500\n",
      "scppy.optimize.direct best result:  [3.3333 0.     0.     0.     0.     0.     0.     0.     0.     0.    ]\n",
      "scppy.optimize.direct best value:  -15.2578\n"
     ]
    }
   ],
   "source": [
    "def shubert(x):\n",
    "    x1 = x[0]\n",
    "    x2 = x[1]\n",
    "    return (np.sum([i*np.cos((i+1)*x1+i) for i in range(1, 6)]) *\n",
    "            np.sum([i*np.cos((i+1)*x2+i) for i in range(1, 6)]))\n",
    "\n",
    "# maxiter = 1\n",
    "# for i in range(8,9):\n",
    "#     maxiter = 2**i\n",
    "#     result = direct(shubert, bounds=[(-5,5)]*2, maxiter=maxiter, vol_tol=1e-5)\n",
    "#     print()\n",
    "#     print(\"maxiter:\", maxiter)\n",
    "#     print(\"scppy.optimize.direct best result: \", result.x.round(4)) \n",
    "#     print(\"scppy.optimize.direct best value: \", round(result.fun, 4)) \n",
    "\n",
    "\n",
    "maxiter = 150\n",
    "result = direct(shubert, bounds=[(-5,5)]*2, maxiter=maxiter, vol_tol=1e-5)\n",
    "print()\n",
    "print(\"maxiter:\", maxiter)\n",
    "print(\"scppy.optimize.direct best result: \", result.x.round(4)) \n",
    "print(\"scppy.optimize.direct best value: \", round(result.fun, 4)) \n",
    "\n",
    "maxiter = 150\n",
    "result = direct(shubert, bounds=[(-5,5)]*2, maxiter=maxiter, vol_tol=1e-8)\n",
    "print()\n",
    "print(\"maxiter:\", maxiter)\n",
    "print(\"scppy.optimize.direct best result: \", result.x.round(4)) \n",
    "print(\"scppy.optimize.direct best value: \", round(result.fun, 4)) \n",
    "\n",
    "maxiter = 1500\n",
    "result = direct(shubert, bounds=[(-5,5)]*10, maxiter=maxiter, vol_tol=1e-10)\n",
    "print()\n",
    "print(\"maxiter:\", maxiter)\n",
    "print(\"scppy.optimize.direct best result: \", result.x.round(4)) \n",
    "print(\"scppy.optimize.direct best value: \", round(result.fun, 4)) \n"
   ]
  },
  {
   "cell_type": "code",
   "execution_count": 26,
   "id": "1eeff6c4",
   "metadata": {},
   "outputs": [
    {
     "data": {
      "text/plain": [
       "np.float64(-15.305266943826622)"
      ]
     },
     "execution_count": 26,
     "metadata": {},
     "output_type": "execute_result"
    }
   ],
   "source": [
    "shubert(np.array([3.33333,-0.37037,0,-0.37037,0.37037,-0.37037,-0.37037,0,0,0 ]))"
   ]
  },
  {
   "cell_type": "code",
   "execution_count": 38,
   "id": "9bb354d1",
   "metadata": {},
   "outputs": [
    {
     "name": "stdout",
     "output_type": "stream",
     "text": [
      "\n",
      "maxiter: 150\n",
      "scppy.optimize.direct best result:  [-1.9973 -1.9918]\n",
      "scppy.optimize.direct best value:  -81.5564\n"
     ]
    }
   ],
   "source": [
    "\n",
    "maxiter = 150\n",
    "result = direct(stybtang, bounds=[(-2,2)]*2, maxiter=maxiter, vol_tol=1e-5)\n",
    "print()\n",
    "print(\"maxiter:\", maxiter)\n",
    "print(\"scppy.optimize.direct best result: \", result.x.round(4)) \n",
    "print(\"scppy.optimize.direct best value: \", round(result.fun, 4)) "
   ]
  },
  {
   "cell_type": "code",
   "execution_count": 40,
   "id": "97ed59b3",
   "metadata": {},
   "outputs": [
    {
     "data": {
      "text/plain": [
       "np.float64(-81.99838001099998)"
      ]
     },
     "execution_count": 40,
     "metadata": {},
     "output_type": "execute_result"
    }
   ],
   "source": [
    "stybtang(np.array([-1.99997,-1.99999 ]))"
   ]
  }
 ],
 "metadata": {
  "kernelspec": {
   "display_name": "myEnv",
   "language": "python",
   "name": "python3"
  },
  "language_info": {
   "codemirror_mode": {
    "name": "ipython",
    "version": 3
   },
   "file_extension": ".py",
   "mimetype": "text/x-python",
   "name": "python",
   "nbconvert_exporter": "python",
   "pygments_lexer": "ipython3",
   "version": "3.12.9"
  }
 },
 "nbformat": 4,
 "nbformat_minor": 5
}
